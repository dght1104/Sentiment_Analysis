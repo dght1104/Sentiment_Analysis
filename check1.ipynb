{
 "cells": [
  {
   "cell_type": "code",
   "execution_count": 15,
   "metadata": {},
   "outputs": [],
   "source": [
    "import numpy as np\n",
    "import pandas as pd\n",
    "import tensorflow as tf\n",
    "import pickle\n",
    "from textblob import TextBlob\n",
    "from googletrans import Translator\n",
    "import matplotlib.pyplot as plt\n",
    "from sklearn.model_selection import train_test_split\n",
    "from tensorflow.keras.layers import Embedding, Dense, Dropout, Bidirectional, LSTM, GRU, Input, GlobalMaxPooling1D, LayerNormalization\n",
    "from tensorflow.keras.optimizers import Adam, SGD\n",
    "from tensorflow.keras import Sequential \n",
    "from tensorflow.keras.models import load_model\n",
    "from tensorflow.keras.preprocessing.text import Tokenizer\n",
    "from tensorflow.keras.preprocessing.sequence import pad_sequences\n",
    "\n",
    "from pyvi import ViTokenizer, ViUtils\n"
   ]
  },
  {
   "cell_type": "code",
   "execution_count": 8,
   "metadata": {},
   "outputs": [
    {
     "name": "stdout",
     "output_type": "stream",
     "text": [
      "                                                                                                                                                                     userid\\tmtime\\trating_star\\tcomment\n",
      "69545822\\t20-05-2021 11:29:58\\t5\\tĐồ giống hình     nhìn khá xinh                                      giá rẻ                                           ship siêu nhanh luôn. Chưa dùng thử nên chưa ...\n",
      "49021104\\t08-05-2021 22:10:31\\t5\\tGiao hàng nha...  shop bán hàng giá rẻ và rất oke luôn. Nhìn màu...  có cơ hội thì mình cũng sẽ ủng hộ                                                             NaN\n",
      "275113953\\t30-06-2021 21:42:59\\t5\\tSản phẩm giố... NaN                                                NaN                                                                                            NaN\n",
      "470905623\\t24-06-2021 11:41:08\\t5\\tSon xinh xĩu...  lên màu đẹp                                        với giá rẻ như vạy thì ko cần phải bàn nữa rồi                                                NaN\n",
      "321034368\\t19-05-2021 12:08:40\\t5\\tCách xoá MỤN...  bởi vậy nên dùng sp dầu để làm tan ra. Dùng bấ...  mà phải dùng dầu                                                                              NaN\n"
     ]
    }
   ],
   "source": [
    "# Đường dẫn tới file CSV\n",
    "file_path = r\".\\sentiments_v2.txt\"\n",
    "data = pd.read_csv(file_path, on_bad_lines='skip')  # Sử dụng on_bad_lines='skip' thay cho error_bad_lines=False\n",
    "print(data.head())  # Hiển thị 5 bản ghi đầu tiên"
   ]
  },
  {
   "cell_type": "code",
   "execution_count": 18,
   "metadata": {},
   "outputs": [
    {
     "name": "stdout",
     "output_type": "stream",
     "text": [
      "Index(['userid', 'mtime', 'rating_star', 'comment'], dtype='object')\n"
     ]
    }
   ],
   "source": [
    "# Đọc file CSV\n",
    "file_path = \"sentiments_v2.csv\"\n",
    "data = pd.read_csv(file_path, on_bad_lines='skip')\n",
    "\n",
    "# In ra tên các cột để kiểm tra\n",
    "print(data.columns)"
   ]
  },
  {
   "cell_type": "code",
   "execution_count": 21,
   "metadata": {},
   "outputs": [
    {
     "name": "stdout",
     "output_type": "stream",
     "text": [
      "Các cột trong DataFrame: Index(['userid', 'mtime', 'rating_star', 'comment'], dtype='object')\n",
      "                                             comment  sentiment\n",
      "0  Đồ giống hình, nhìn khá xinh, giá rẻ, ship siê...   0.295833\n",
      "1  Giao hàng nhanh. Mình đặt hộ nên ko biết chất ...   0.391667\n",
      "2  Sản phẩm giống trên hình. Son khá lì. Thời gia...  -0.025000\n",
      "3  Son xinh xĩu lun á shopp ơii.vỏ son nhìn cute ...   0.850000\n",
      "4  Cách xoá MỤN ĐẦU ĐEN mũi bằng DẦU TẨY TRANG. K...  -0.125000\n"
     ]
    }
   ],
   "source": [
    "# Đọc file CSV\n",
    "file_path = \"sentiments_v2.csv\"\n",
    "data = pd.read_csv(file_path, on_bad_lines='skip')\n",
    "\n",
    "# In ra tên các cột để kiểm tra\n",
    "print(\"Các cột trong DataFrame:\", data.columns)\n",
    "\n",
    "# Chỉ kiểm tra nếu cột 'comment' tồn tại\n",
    "if 'comment' in data.columns:\n",
    "    # Khởi tạo công cụ dịch\n",
    "    translator = Translator()\n",
    "\n",
    "    # Hàm dịch và phân tích cảm xúc\n",
    "    def analyze_sentiment(text):\n",
    "        # Dịch văn bản sang tiếng Anh\n",
    "        translated_text = translator.translate(text, src='vi', dest='en').text\n",
    "        # Phân tích cảm xúc bằng TextBlob\n",
    "        blob = TextBlob(translated_text)\n",
    "        return blob.sentiment.polarity  # Trả về điểm cảm xúc từ -1 (tiêu cực) đến 1 (tích cực)\n",
    "\n",
    "    # Áp dụng hàm cho 5 bình luận đầu tiên\n",
    "    data['sentiment'] = data['comment'].head(5).apply(analyze_sentiment)\n",
    "\n",
    "    # Hiển thị 5 bình luận đầu tiên với điểm cảm xúc\n",
    "    print(data[['comment', 'sentiment']].head(5))\n",
    "else:\n",
    "    print(\"Cột 'comment' không tồn tại trong DataFrame.\")\n"
   ]
  }
 ],
 "metadata": {
  "kernelspec": {
   "display_name": "Python 3",
   "language": "python",
   "name": "python3"
  },
  "language_info": {
   "codemirror_mode": {
    "name": "ipython",
    "version": 3
   },
   "file_extension": ".py",
   "mimetype": "text/x-python",
   "name": "python",
   "nbconvert_exporter": "python",
   "pygments_lexer": "ipython3",
   "version": "3.12.6"
  }
 },
 "nbformat": 4,
 "nbformat_minor": 2
}
